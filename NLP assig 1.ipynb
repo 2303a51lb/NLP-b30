{
  "nbformat": 4,
  "nbformat_minor": 0,
  "metadata": {
    "colab": {
      "provenance": [],
      "authorship_tag": "ABX9TyM1FGeWohccS9c7rqCIxUV5",
      "include_colab_link": true
    },
    "kernelspec": {
      "name": "python3",
      "display_name": "Python 3"
    },
    "language_info": {
      "name": "python"
    }
  },
  "cells": [
    {
      "cell_type": "markdown",
      "metadata": {
        "id": "view-in-github",
        "colab_type": "text"
      },
      "source": [
        "<a href=\"https://colab.research.google.com/github/2303a51lb/NLP-b30/blob/main/NLP%20assig%201.ipynb\" target=\"_parent\"><img src=\"https://colab.research.google.com/assets/colab-badge.svg\" alt=\"Open In Colab\"/></a>"
      ]
    },
    {
      "cell_type": "code",
      "execution_count": 1,
      "metadata": {
        "colab": {
          "base_uri": "https://localhost:8080/",
          "height": 228
        },
        "id": "E9l9DCUCw8__",
        "outputId": "526098c8-f453-490d-e23b-c576e0bf013b"
      },
      "outputs": [
        {
          "output_type": "stream",
          "name": "stderr",
          "text": [
            "[nltk_data] Downloading package punkt to /root/nltk_data...\n",
            "[nltk_data]   Unzipping tokenizers/punkt.zip.\n"
          ]
        },
        {
          "output_type": "error",
          "ename": "NameError",
          "evalue": "name '_name_' is not defined",
          "traceback": [
            "\u001b[0;31m---------------------------------------------------------------------------\u001b[0m",
            "\u001b[0;31mNameError\u001b[0m                                 Traceback (most recent call last)",
            "\u001b[0;32m<ipython-input-1-65ef5a2eb56e>\u001b[0m in \u001b[0;36m<cell line: 101>\u001b[0;34m()\u001b[0m\n\u001b[1;32m     99\u001b[0m         \u001b[0mprint\u001b[0m\u001b[0;34m(\u001b[0m\u001b[0msentence\u001b[0m\u001b[0;34m)\u001b[0m\u001b[0;34m\u001b[0m\u001b[0;34m\u001b[0m\u001b[0m\n\u001b[1;32m    100\u001b[0m \u001b[0;34m\u001b[0m\u001b[0m\n\u001b[0;32m--> 101\u001b[0;31m \u001b[0;32mif\u001b[0m \u001b[0m_name_\u001b[0m \u001b[0;34m==\u001b[0m \u001b[0;34m\"_main_\"\u001b[0m\u001b[0;34m:\u001b[0m\u001b[0;34m\u001b[0m\u001b[0;34m\u001b[0m\u001b[0m\n\u001b[0m\u001b[1;32m    102\u001b[0m     \u001b[0mmain\u001b[0m\u001b[0;34m(\u001b[0m\u001b[0;34m)\u001b[0m\u001b[0;34m\u001b[0m\u001b[0;34m\u001b[0m\u001b[0m\n",
            "\u001b[0;31mNameError\u001b[0m: name '_name_' is not defined"
          ]
        }
      ],
      "source": [
        "import pandas as pd\n",
        "import requests\n",
        "import nltk\n",
        "from nltk.tokenize import sent_tokenize\n",
        "import re\n",
        "import os\n",
        "\n",
        "# Ensure required NLTK data is downloaded\n",
        "nltk.download('punkt')\n",
        "\n",
        "# Try to import datasets package; handle import errors\n",
        "try:\n",
        "    from datasets import load_dataset\n",
        "    datasets_installed = True\n",
        "except ImportError:\n",
        "    datasets_installed = False\n",
        "\n",
        "def load_text_from_file(file_path):\n",
        "    if os.path.exists(file_path):\n",
        "        with open(file_path, 'r') as file:\n",
        "            return file.read()\n",
        "    else:\n",
        "        return \"File not found.\"\n",
        "\n",
        "def load_text_from_csv(file_path, column_name):\n",
        "    if os.path.exists(file_path):\n",
        "        df = pd.read_csv(file_path)\n",
        "        return df[column_name].tolist()\n",
        "    else:\n",
        "        return \"CSV file not found.\"\n",
        "\n",
        "def load_text_from_url(url):\n",
        "    try:\n",
        "        response = requests.get(url)\n",
        "        response.raise_for_status()  # Check for HTTP errors\n",
        "        return response.text\n",
        "    except requests.RequestException as e:\n",
        "        return f\"Error loading URL: {e}\"\n",
        "\n",
        "def load_text_from_nltk():\n",
        "    try:\n",
        "        from nltk.corpus import gutenberg\n",
        "        return gutenberg.raw('austen-emma.txt')\n",
        "    except Exception as e:\n",
        "        return f\"Error loading NLTK data: {e}\"\n",
        "\n",
        "def load_text_from_huggingface(dataset_name):\n",
        "    if datasets_installed:\n",
        "        try:\n",
        "            dataset = load_dataset(dataset_name, split='train')  # Example: IMDb dataset\n",
        "            return dataset['text'][:5]  # Get the first 5 entries\n",
        "        except Exception as e:\n",
        "            return f\"Error loading Hugging Face dataset: {e}\"\n",
        "    else:\n",
        "        return \"Hugging Face datasets library is not installed.\"\n",
        "\n",
        "def remove_ambiguity(text):\n",
        "    # Example replacements for ambiguity\n",
        "    text = re.sub(r'\\bbank\\b', 'financial institution', text)\n",
        "    text = re.sub(r'\\badjustable-rate mortgage securities\\b', 'financial products', text)\n",
        "    return text\n",
        "\n",
        "def segment_sentences(text):\n",
        "    return sent_tokenize(text)\n",
        "\n",
        "def main():\n",
        "    # Paths and URLs for demonstration\n",
        "    file_path = 'path_to_file.txt'  # Update this with your file path\n",
        "    csv_path = 'path_to_file.csv'   # Update this with your file path\n",
        "    csv_column = 'column_name'      # Update this with your column name\n",
        "    url = 'https://example.com/textfile.txt'  # Update this with your URL\n",
        "    dataset_name = 'imdb'           # Update this with your dataset name\n",
        "\n",
        "    # Load text data\n",
        "    file_text = load_text_from_file(file_path)\n",
        "    csv_text = load_text_from_csv(csv_path, csv_column)\n",
        "    url_text = load_text_from_url(url)\n",
        "    nltk_text = load_text_from_nltk()\n",
        "    hf_text = load_text_from_huggingface(dataset_name)\n",
        "\n",
        "    # Print loaded data\n",
        "    print(\"Text from file:\\n\", file_text)\n",
        "    print(\"\\nText from CSV:\\n\", csv_text)\n",
        "    print(\"\\nText from URL:\\n\", url_text)\n",
        "    print(\"\\nText from NLTK:\\n\", nltk_text)\n",
        "    print(\"\\nText from Hugging Face:\\n\", hf_text)\n",
        "\n",
        "    # Example text for ambiguity removal and sentence segmentation\n",
        "    example_text = \"The bank can guarantee deposits will eventually cover future tuition costs because it invests in adjustable-rate mortgage securities.\"\n",
        "\n",
        "    # Remove ambiguity\n",
        "    cleaned_text = remove_ambiguity(example_text)\n",
        "    print(\"\\nCleaned Text:\\n\", cleaned_text)\n",
        "\n",
        "    # Segment sentences\n",
        "    sentences = segment_sentences(cleaned_text)\n",
        "    print(\"\\nSegmented Sentences:\")\n",
        "    for sentence in sentences:\n",
        "        print(sentence)\n",
        "\n",
        "if _name_ == \"_main_\":\n",
        "    main()"
      ]
    }
  ]
}